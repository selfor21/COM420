{
  "cells": [
    {
      "cell_type": "markdown",
      "metadata": {
        "id": "view-in-github",
        "colab_type": "text"
      },
      "source": [
        "<a href=\"https://colab.research.google.com/github/selfor21/COM420/blob/main/COM520_Desafio02_Modelo02.ipynb\" target=\"_parent\"><img src=\"https://colab.research.google.com/assets/colab-badge.svg\" alt=\"Open In Colab\"/></a>"
      ]
    },
    {
      "cell_type": "markdown",
      "metadata": {
        "id": "ikxZW8AllWK6"
      },
      "source": [
        "# COM520 - Aprendizado Profundo\n",
        "\n",
        "## Desafio - Semana 02 - Modelo 02\n",
        "\n",
        "### Redes Convolucionais\n",
        "\n",
        "- Carregamento dos pacotes necessários\n",
        "- Carregamento dos dados (MNIST)\n",
        "- Desenvolvimento de um modelo CNN\n",
        "\n"
      ]
    },
    {
      "cell_type": "markdown",
      "metadata": {
        "id": "RLcCjipXla_K"
      },
      "source": [
        "# Pacotes"
      ]
    },
    {
      "cell_type": "code",
      "execution_count": null,
      "metadata": {
        "colab": {
          "base_uri": "https://localhost:8080/"
        },
        "id": "Zo2guFZtmNCI",
        "outputId": "56a49c44-2dfb-4db3-8519-3ac22aaff094"
      },
      "outputs": [
        {
          "output_type": "stream",
          "name": "stdout",
          "text": [
            "2.12.0\n"
          ]
        }
      ],
      "source": [
        "import tensorflow as tf\n",
        "from tensorflow import keras\n",
        "from tensorflow.keras import layers\n",
        "from tensorflow.keras import Model\n",
        "import keras.datasets as kds\n",
        "import pandas as pd\n",
        "\n",
        "import numpy as np\n",
        "import matplotlib.pyplot as plt\n",
        "from matplotlib.image import imread\n",
        "\n",
        "print(tf.__version__)"
      ]
    },
    {
      "cell_type": "code",
      "source": [
        "import pandas as pd"
      ],
      "metadata": {
        "id": "4IGL_iobJhQ9"
      },
      "execution_count": null,
      "outputs": []
    },
    {
      "cell_type": "code",
      "source": [
        "test_loss_l = []\n",
        "test_acc_l = []\n",
        "activation_l = []\n",
        "history_l = []"
      ],
      "metadata": {
        "id": "4TtOcq2dK-7v"
      },
      "execution_count": null,
      "outputs": []
    },
    {
      "cell_type": "markdown",
      "metadata": {
        "id": "crg4eS_UrgV_"
      },
      "source": [
        "# Carregamento dos Dados"
      ]
    },
    {
      "cell_type": "markdown",
      "metadata": {
        "id": "QgKHcl8Cp5jT"
      },
      "source": [
        "## MNIST (Digitos)\n",
        "\n",
        "### Um dataset público com 70000 exemplos (60K Treino / 10K Teste)\n",
        "\n",
        "<img src=\"https://upload.wikimedia.org/wikipedia/commons/2/27/MnistExamples.png\">\n",
        "\n",
        "Ver: http://yann.lecun.com/exdb/mnist/"
      ]
    },
    {
      "cell_type": "markdown",
      "metadata": {
        "id": "gN2ItdNyri97"
      },
      "source": [
        "## Dados"
      ]
    },
    {
      "cell_type": "code",
      "execution_count": null,
      "metadata": {
        "id": "DpXok59srmb6",
        "colab": {
          "base_uri": "https://localhost:8080/"
        },
        "outputId": "6b7b3df5-332c-4423-d19d-bc5d339878a9"
      },
      "outputs": [
        {
          "output_type": "stream",
          "name": "stdout",
          "text": [
            "Downloading data from https://storage.googleapis.com/tensorflow/tf-keras-datasets/mnist.npz\n",
            "11490434/11490434 [==============================] - 0s 0us/step\n"
          ]
        }
      ],
      "source": [
        "num_classes = 10\n",
        "input_shape = (28, 28, 1)\n",
        "\n",
        "# Carga dos dados (keras.datasets)\n",
        "(x_train, y_train), (x_test, y_test) = kds.mnist.load_data()\n",
        "\n",
        "# Normalização das features\n",
        "x_train = x_train.astype(\"float32\") / 255\n",
        "x_test = x_test.astype(\"float32\") / 255\n",
        "\n",
        "# Conversão das classes em vetores one-hot-encoding \n",
        "y_train = keras.utils.to_categorical(y_train, num_classes)\n",
        "y_test = keras.utils.to_categorical(y_test, num_classes)\n"
      ]
    },
    {
      "cell_type": "code",
      "execution_count": null,
      "metadata": {
        "colab": {
          "base_uri": "https://localhost:8080/",
          "height": 170
        },
        "id": "zHsCsLoJtGt6",
        "outputId": "03ead7e0-e2d5-415f-e757-acf4073b3b0c"
      },
      "outputs": [
        {
          "output_type": "display_data",
          "data": {
            "text/plain": [
              "<Figure size 1000x800 with 5 Axes>"
            ],
            "image/png": "[encoded data removed]"
          },
          "metadata": {}
        }
      ],
      "source": [
        "plt.figure(figsize=(10, 8))\n",
        "for i in range(5):\n",
        "    ax = plt.subplot(1, 5, i + 1)\n",
        "    plt.imshow(x_test[i].reshape(28, 28))\n",
        "    plt.gray()\n",
        "    ax.get_xaxis().set_visible(False)\n",
        "    ax.get_yaxis().set_visible(False)\n",
        "plt.show()"
      ]
    },
    {
      "cell_type": "markdown",
      "metadata": {
        "id": "2qTL8ZOOJt3n"
      },
      "source": [
        "# Modelo 02 - MLP - 100 relu + 10 softmax"
      ]
    },
    {
      "cell_type": "code",
      "execution_count": null,
      "metadata": {
        "colab": {
          "base_uri": "https://localhost:8080/"
        },
        "id": "E-UJOniUJt3o",
        "outputId": "d92eba7b-0db2-4cd5-9006-109eceeaf825"
      },
      "outputs": [
        {
          "output_type": "stream",
          "name": "stdout",
          "text": [
            "Model: \"sequential_4\"\n",
            "_________________________________________________________________\n",
            " Layer (type)                Output Shape              Param #   \n",
            "=================================================================\n",
            " flatten_4 (Flatten)         (None, 784)               0         \n",
            "                                                                 \n",
            " dense_8 (Dense)             (None, 100)               78500     \n",
            "                                                                 \n",
            " dense_9 (Dense)             (None, 10)                1010      \n",
            "                                                                 \n",
            "=================================================================\n",
            "Total params: 79,510\n",
            "Trainable params: 79,510\n",
            "Non-trainable params: 0\n",
            "_________________________________________________________________\n"
          ]
        }
      ],
      "source": [
        "modelo2 = keras.Sequential()\n",
        "modelo2.add(keras.layers.Flatten(input_shape=input_shape))\n",
        "modelo2.add(keras.layers.Dense(units=100, activation=\"relu\"))\n",
        "modelo2.add(keras.layers.Dense(units=10, activation=\"softmax\"))\n",
        "\n",
        "modelo2.summary()"
      ]
    },
    {
      "cell_type": "code",
      "source": [
        "#Grafo da rede gerada\n",
        "tf.keras.utils.plot_model(modelo2, show_shapes=True)"
      ],
      "metadata": {
        "id": "5DIjM0tz9P4t"
      },
      "execution_count": null,
      "outputs": []
    },
    {
      "cell_type": "code",
      "execution_count": null,
      "metadata": {
        "colab": {
          "base_uri": "https://localhost:8080/"
        },
        "id": "AL9ZAOsiJt3o",
        "outputId": "907859e1-5032-4b47-f358-b08b21f7885a"
      },
      "outputs": [
        {
          "output_type": "stream",
          "name": "stdout",
          "text": [
            "Epoch 1/30\n",
            "188/188 - 3s - loss: 0.5241 - accuracy: 0.8580 - val_loss: 0.2638 - val_accuracy: 0.9289 - 3s/epoch - 14ms/step\n",
            "Epoch 2/30\n",
            "188/188 - 1s - loss: 0.2450 - accuracy: 0.9314 - val_loss: 0.2052 - val_accuracy: 0.9444 - 1s/epoch - 7ms/step\n",
            "Epoch 3/30\n",
            "188/188 - 1s - loss: 0.1903 - accuracy: 0.9471 - val_loss: 0.1804 - val_accuracy: 0.9506 - 1s/epoch - 6ms/step\n",
            "Epoch 4/30\n",
            "188/188 - 1s - loss: 0.1564 - accuracy: 0.9558 - val_loss: 0.1520 - val_accuracy: 0.9579 - 1s/epoch - 6ms/step\n",
            "Epoch 5/30\n",
            "188/188 - 1s - loss: 0.1330 - accuracy: 0.9628 - val_loss: 0.1393 - val_accuracy: 0.9601 - 1s/epoch - 6ms/step\n",
            "Epoch 6/30\n",
            "188/188 - 1s - loss: 0.1159 - accuracy: 0.9675 - val_loss: 0.1330 - val_accuracy: 0.9623 - 1s/epoch - 6ms/step\n",
            "Epoch 7/30\n",
            "188/188 - 1s - loss: 0.1012 - accuracy: 0.9719 - val_loss: 0.1199 - val_accuracy: 0.9669 - 1s/epoch - 6ms/step\n",
            "Epoch 8/30\n",
            "188/188 - 1s - loss: 0.0892 - accuracy: 0.9753 - val_loss: 0.1107 - val_accuracy: 0.9686 - 1s/epoch - 6ms/step\n",
            "Epoch 9/30\n",
            "188/188 - 1s - loss: 0.0795 - accuracy: 0.9782 - val_loss: 0.1060 - val_accuracy: 0.9693 - 1s/epoch - 6ms/step\n",
            "Epoch 10/30\n",
            "188/188 - 1s - loss: 0.0712 - accuracy: 0.9807 - val_loss: 0.1030 - val_accuracy: 0.9702 - 1s/epoch - 6ms/step\n",
            "Epoch 11/30\n",
            "188/188 - 2s - loss: 0.0638 - accuracy: 0.9827 - val_loss: 0.0978 - val_accuracy: 0.9708 - 2s/epoch - 8ms/step\n",
            "Epoch 12/30\n",
            "188/188 - 2s - loss: 0.0576 - accuracy: 0.9846 - val_loss: 0.1011 - val_accuracy: 0.9710 - 2s/epoch - 9ms/step\n",
            "Epoch 13/30\n",
            "188/188 - 1s - loss: 0.0524 - accuracy: 0.9859 - val_loss: 0.0949 - val_accuracy: 0.9724 - 1s/epoch - 6ms/step\n",
            "Epoch 14/30\n",
            "188/188 - 2s - loss: 0.0469 - accuracy: 0.9871 - val_loss: 0.0932 - val_accuracy: 0.9732 - 2s/epoch - 8ms/step\n",
            "Epoch 15/30\n",
            "188/188 - 3s - loss: 0.0430 - accuracy: 0.9887 - val_loss: 0.0940 - val_accuracy: 0.9722 - 3s/epoch - 14ms/step\n",
            "Epoch 16/30\n",
            "188/188 - 2s - loss: 0.0386 - accuracy: 0.9899 - val_loss: 0.0919 - val_accuracy: 0.9732 - 2s/epoch - 10ms/step\n",
            "Epoch 17/30\n",
            "188/188 - 2s - loss: 0.0350 - accuracy: 0.9908 - val_loss: 0.0899 - val_accuracy: 0.9740 - 2s/epoch - 11ms/step\n",
            "Epoch 18/30\n",
            "188/188 - 3s - loss: 0.0313 - accuracy: 0.9926 - val_loss: 0.0908 - val_accuracy: 0.9730 - 3s/epoch - 14ms/step\n",
            "Epoch 19/30\n",
            "188/188 - 2s - loss: 0.0285 - accuracy: 0.9933 - val_loss: 0.0913 - val_accuracy: 0.9731 - 2s/epoch - 12ms/step\n",
            "Epoch 20/30\n",
            "188/188 - 1s - loss: 0.0258 - accuracy: 0.9943 - val_loss: 0.0908 - val_accuracy: 0.9720 - 1s/epoch - 7ms/step\n",
            "Epoch 21/30\n",
            "188/188 - 1s - loss: 0.0237 - accuracy: 0.9950 - val_loss: 0.0905 - val_accuracy: 0.9737 - 1s/epoch - 6ms/step\n",
            "Epoch 22/30\n",
            "188/188 - 1s - loss: 0.0213 - accuracy: 0.9956 - val_loss: 0.0906 - val_accuracy: 0.9740 - 1s/epoch - 6ms/step\n",
            "Epoch 23/30\n",
            "188/188 - 1s - loss: 0.0186 - accuracy: 0.9966 - val_loss: 0.0897 - val_accuracy: 0.9743 - 1s/epoch - 6ms/step\n",
            "Epoch 24/30\n",
            "188/188 - 1s - loss: 0.0170 - accuracy: 0.9967 - val_loss: 0.0894 - val_accuracy: 0.9751 - 1s/epoch - 6ms/step\n",
            "Epoch 25/30\n",
            "188/188 - 1s - loss: 0.0152 - accuracy: 0.9978 - val_loss: 0.0914 - val_accuracy: 0.9739 - 1s/epoch - 6ms/step\n",
            "Epoch 26/30\n",
            "188/188 - 1s - loss: 0.0140 - accuracy: 0.9978 - val_loss: 0.0915 - val_accuracy: 0.9748 - 1s/epoch - 6ms/step\n",
            "Epoch 27/30\n",
            "188/188 - 1s - loss: 0.0127 - accuracy: 0.9982 - val_loss: 0.0916 - val_accuracy: 0.9731 - 1s/epoch - 6ms/step\n",
            "Epoch 28/30\n",
            "188/188 - 2s - loss: 0.0114 - accuracy: 0.9985 - val_loss: 0.0930 - val_accuracy: 0.9741 - 2s/epoch - 9ms/step\n",
            "Epoch 29/30\n",
            "188/188 - 2s - loss: 0.0102 - accuracy: 0.9987 - val_loss: 0.0918 - val_accuracy: 0.9747 - 2s/epoch - 8ms/step\n",
            "Epoch 30/30\n",
            "188/188 - 1s - loss: 0.0092 - accuracy: 0.9990 - val_loss: 0.0949 - val_accuracy: 0.9737 - 1s/epoch - 6ms/step\n"
          ]
        }
      ],
      "source": [
        "modelo2.compile(loss=\"categorical_crossentropy\", optimizer=\"adam\", metrics=[\"accuracy\"])\n",
        "\n",
        "history2 = modelo2.fit(x_train, y_train, batch_size=256, epochs=30, validation_split=0.2, verbose=2)"
      ]
    },
    {
      "cell_type": "code",
      "execution_count": null,
      "metadata": {
        "colab": {
          "base_uri": "https://localhost:8080/",
          "height": 451
        },
        "id": "22tAsp4HJt3o",
        "outputId": "b7fe2500-ea33-4347-e536-06a646cb7d34"
      },
      "outputs": [
        {
          "output_type": "display_data",
          "data": {
            "text/plain": [
              "<Figure size 640x480 with 1 Axes>"
            ],
            "image/png": "[encoded data removed]"
          },
          "metadata": {}
        }
      ],
      "source": [
        "plt.xlabel(\"Épocas'\")\n",
        "plt.ylabel(\"Loss\")\n",
        "plt.plot(history2.history['loss'], label=\"Treino\")\n",
        "plt.plot(history2.history['val_loss'], label=\"Val\")\n",
        "plt.legend()\n",
        "plt.show()\n"
      ]
    },
    {
      "cell_type": "code",
      "execution_count": null,
      "metadata": {
        "colab": {
          "base_uri": "https://localhost:8080/"
        },
        "id": "70HxkMNxJt3o",
        "outputId": "6cd90425-1637-4772-b71b-900cb57f0850"
      },
      "outputs": [
        {
          "output_type": "stream",
          "name": "stdout",
          "text": [
            "Avaliação do modelo (Teste)\n",
            "313/313 [==============================] - 1s 2ms/step - loss: 0.0916 - accuracy: 0.9755\n",
            "Test loss, Test acc: [0.09160944819450378, 0.9754999876022339]\n"
          ]
        }
      ],
      "source": [
        "# Avaliação do modelo treinado no conjunto de tete\n",
        "print(\"Avaliação do modelo (Teste)\")\n",
        "results2 = modelo2.evaluate(x_test, y_test)\n",
        "print(\"Test loss, Test acc:\", results2)\n"
      ]
    },
    {
      "cell_type": "code",
      "source": [
        "activation_l.append('100relu + 10softmax')\n",
        "test_loss_l.append(results2[0])\n",
        "test_acc_l.append(results2[1])"
      ],
      "metadata": {
        "id": "oXXumvcILIwP"
      },
      "execution_count": null,
      "outputs": []
    },
    {
      "cell_type": "markdown",
      "source": [
        "#Modelo 03 - reduzindo a qtde neuronios para 80"
      ],
      "metadata": {
        "id": "p0R-bOv0LnsN"
      }
    },
    {
      "cell_type": "code",
      "source": [
        "modelo3 = keras.Sequential()\n",
        "modelo3.add(keras.layers.Flatten(input_shape=input_shape))\n",
        "modelo3.add(keras.layers.Dense(units=80, activation=\"relu\"))\n",
        "modelo3.add(keras.layers.Dense(units=10, activation=\"softmax\"))\n",
        "\n",
        "modelo3.summary()"
      ],
      "metadata": {
        "colab": {
          "base_uri": "https://localhost:8080/"
        },
        "id": "6mWMz7n-LoQK",
        "outputId": "cf90ad3a-facb-4b73-d9db-522ddc511ee6"
      },
      "execution_count": null,
      "outputs": [
        {
          "output_type": "stream",
          "name": "stdout",
          "text": [
            "Model: \"sequential_5\"\n",
            "_________________________________________________________________\n",
            " Layer (type)                Output Shape              Param #   \n",
            "=================================================================\n",
            " flatten_5 (Flatten)         (None, 784)               0         \n",
            "                                                                 \n",
            " dense_10 (Dense)            (None, 80)                62800     \n",
            "                                                                 \n",
            " dense_11 (Dense)            (None, 10)                810       \n",
            "                                                                 \n",
            "=================================================================\n",
            "Total params: 63,610\n",
            "Trainable params: 63,610\n",
            "Non-trainable params: 0\n",
            "_________________________________________________________________\n"
          ]
        }
      ]
    },
    {
      "cell_type": "code",
      "source": [
        "modelo3.compile(loss=\"categorical_crossentropy\", optimizer=\"adam\", metrics=[\"accuracy\"])\n",
        "\n",
        "history3 = modelo3.fit(x_train, y_train, batch_size=256, epochs=30, validation_split=0.2, verbose=2)"
      ],
      "metadata": {
        "colab": {
          "base_uri": "https://localhost:8080/"
        },
        "id": "PndbyX5zLoTZ",
        "outputId": "85a27bda-a341-4d96-9844-a220fd4d623f"
      },
      "execution_count": null,
      "outputs": [
        {
          "output_type": "stream",
          "name": "stdout",
          "text": [
            "Epoch 1/30\n",
            "188/188 - 3s - loss: 0.5523 - accuracy: 0.8501 - val_loss: 0.2731 - val_accuracy: 0.9228 - 3s/epoch - 14ms/step\n",
            "Epoch 2/30\n",
            "188/188 - 1s - loss: 0.2549 - accuracy: 0.9281 - val_loss: 0.2213 - val_accuracy: 0.9372 - 1s/epoch - 6ms/step\n",
            "Epoch 3/30\n",
            "188/188 - 1s - loss: 0.2011 - accuracy: 0.9430 - val_loss: 0.1838 - val_accuracy: 0.9489 - 1s/epoch - 5ms/step\n",
            "Epoch 4/30\n",
            "188/188 - 1s - loss: 0.1670 - accuracy: 0.9532 - val_loss: 0.1619 - val_accuracy: 0.9555 - 991ms/epoch - 5ms/step\n",
            "Epoch 5/30\n",
            "188/188 - 1s - loss: 0.1430 - accuracy: 0.9594 - val_loss: 0.1467 - val_accuracy: 0.9581 - 998ms/epoch - 5ms/step\n",
            "Epoch 6/30\n",
            "188/188 - 1s - loss: 0.1249 - accuracy: 0.9647 - val_loss: 0.1345 - val_accuracy: 0.9619 - 957ms/epoch - 5ms/step\n",
            "Epoch 7/30\n",
            "188/188 - 1s - loss: 0.1099 - accuracy: 0.9697 - val_loss: 0.1249 - val_accuracy: 0.9643 - 990ms/epoch - 5ms/step\n",
            "Epoch 8/30\n",
            "188/188 - 1s - loss: 0.0978 - accuracy: 0.9735 - val_loss: 0.1199 - val_accuracy: 0.9649 - 945ms/epoch - 5ms/step\n",
            "Epoch 9/30\n",
            "188/188 - 1s - loss: 0.0885 - accuracy: 0.9759 - val_loss: 0.1143 - val_accuracy: 0.9667 - 919ms/epoch - 5ms/step\n",
            "Epoch 10/30\n",
            "188/188 - 1s - loss: 0.0797 - accuracy: 0.9780 - val_loss: 0.1064 - val_accuracy: 0.9692 - 921ms/epoch - 5ms/step\n",
            "Epoch 11/30\n",
            "188/188 - 1s - loss: 0.0732 - accuracy: 0.9799 - val_loss: 0.1059 - val_accuracy: 0.9697 - 936ms/epoch - 5ms/step\n",
            "Epoch 12/30\n",
            "188/188 - 1s - loss: 0.0656 - accuracy: 0.9824 - val_loss: 0.1058 - val_accuracy: 0.9688 - 1s/epoch - 7ms/step\n",
            "Epoch 13/30\n",
            "188/188 - 2s - loss: 0.0609 - accuracy: 0.9835 - val_loss: 0.1002 - val_accuracy: 0.9717 - 2s/epoch - 9ms/step\n",
            "Epoch 14/30\n",
            "188/188 - 1s - loss: 0.0556 - accuracy: 0.9851 - val_loss: 0.1005 - val_accuracy: 0.9707 - 953ms/epoch - 5ms/step\n",
            "Epoch 15/30\n",
            "188/188 - 1s - loss: 0.0516 - accuracy: 0.9860 - val_loss: 0.0969 - val_accuracy: 0.9717 - 989ms/epoch - 5ms/step\n",
            "Epoch 16/30\n",
            "188/188 - 1s - loss: 0.0467 - accuracy: 0.9878 - val_loss: 0.1012 - val_accuracy: 0.9706 - 999ms/epoch - 5ms/step\n",
            "Epoch 17/30\n",
            "188/188 - 1s - loss: 0.0434 - accuracy: 0.9885 - val_loss: 0.0973 - val_accuracy: 0.9713 - 1s/epoch - 5ms/step\n",
            "Epoch 18/30\n",
            "188/188 - 1s - loss: 0.0398 - accuracy: 0.9899 - val_loss: 0.0986 - val_accuracy: 0.9718 - 935ms/epoch - 5ms/step\n",
            "Epoch 19/30\n",
            "188/188 - 1s - loss: 0.0371 - accuracy: 0.9906 - val_loss: 0.0954 - val_accuracy: 0.9736 - 985ms/epoch - 5ms/step\n",
            "Epoch 20/30\n",
            "188/188 - 1s - loss: 0.0337 - accuracy: 0.9914 - val_loss: 0.0965 - val_accuracy: 0.9720 - 991ms/epoch - 5ms/step\n",
            "Epoch 21/30\n",
            "188/188 - 1s - loss: 0.0313 - accuracy: 0.9923 - val_loss: 0.0941 - val_accuracy: 0.9732 - 968ms/epoch - 5ms/step\n",
            "Epoch 22/30\n",
            "188/188 - 1s - loss: 0.0292 - accuracy: 0.9931 - val_loss: 0.0991 - val_accuracy: 0.9720 - 1s/epoch - 5ms/step\n",
            "Epoch 23/30\n",
            "188/188 - 1s - loss: 0.0267 - accuracy: 0.9941 - val_loss: 0.0971 - val_accuracy: 0.9722 - 937ms/epoch - 5ms/step\n",
            "Epoch 24/30\n",
            "188/188 - 1s - loss: 0.0247 - accuracy: 0.9946 - val_loss: 0.0978 - val_accuracy: 0.9728 - 1s/epoch - 8ms/step\n",
            "Epoch 25/30\n",
            "188/188 - 2s - loss: 0.0229 - accuracy: 0.9950 - val_loss: 0.0991 - val_accuracy: 0.9724 - 2s/epoch - 8ms/step\n",
            "Epoch 26/30\n",
            "188/188 - 1s - loss: 0.0209 - accuracy: 0.9956 - val_loss: 0.0945 - val_accuracy: 0.9743 - 949ms/epoch - 5ms/step\n",
            "Epoch 27/30\n",
            "188/188 - 1s - loss: 0.0194 - accuracy: 0.9961 - val_loss: 0.0966 - val_accuracy: 0.9732 - 1s/epoch - 5ms/step\n",
            "Epoch 28/30\n",
            "188/188 - 1s - loss: 0.0176 - accuracy: 0.9968 - val_loss: 0.0986 - val_accuracy: 0.9728 - 953ms/epoch - 5ms/step\n",
            "Epoch 29/30\n",
            "188/188 - 1s - loss: 0.0164 - accuracy: 0.9969 - val_loss: 0.0985 - val_accuracy: 0.9728 - 986ms/epoch - 5ms/step\n",
            "Epoch 30/30\n",
            "188/188 - 1s - loss: 0.0152 - accuracy: 0.9972 - val_loss: 0.0994 - val_accuracy: 0.9735 - 978ms/epoch - 5ms/step\n"
          ]
        }
      ]
    },
    {
      "cell_type": "code",
      "source": [
        "plt.xlabel(\"Épocas'\")\n",
        "plt.ylabel(\"Loss\")\n",
        "plt.plot(history3.history['loss'], label=\"Treino\")\n",
        "plt.plot(history3.history['val_loss'], label=\"Val\")\n",
        "plt.legend()\n",
        "plt.show()\n"
      ],
      "metadata": {
        "colab": {
          "base_uri": "https://localhost:8080/",
          "height": 451
        },
        "id": "EKKWIn2XLoWq",
        "outputId": "22947ec1-3424-4d2b-bc01-15104eb0c8a8"
      },
      "execution_count": null,
      "outputs": [
        {
          "output_type": "display_data",
          "data": {
            "text/plain": [
              "<Figure size 640x480 with 1 Axes>"
            ],
            "image/png": "[encoded data removed]"
          },
          "metadata": {}
        }
      ]
    },
    {
      "cell_type": "code",
      "source": [
        "#Avaliação do modelo treinado no conjunto de teste\n",
        "print(\"Avaliação do modelo (Teste)\")\n",
        "results3 = modelo3.evaluate(x_test, y_test)\n",
        "print(\"Test loss, Test acc:\", results3)\n"
      ],
      "metadata": {
        "colab": {
          "base_uri": "https://localhost:8080/"
        },
        "id": "s54aba7FLoZ5",
        "outputId": "70b1b15d-3011-4743-d0b5-bf407607376c"
      },
      "execution_count": null,
      "outputs": [
        {
          "output_type": "stream",
          "name": "stdout",
          "text": [
            "Avaliação do modelo (Teste)\n",
            "313/313 [==============================] - 1s 2ms/step - loss: 0.0925 - accuracy: 0.9740\n",
            "Test loss, Test acc: [0.09247112274169922, 0.9739999771118164]\n"
          ]
        }
      ]
    },
    {
      "cell_type": "code",
      "source": [
        "activation_l.append('80relu + 10softmax')\n",
        "test_loss_l.append(results3[0])\n",
        "test_acc_l.append(results3[1])"
      ],
      "metadata": {
        "id": "tjP-OWrWQ1wa"
      },
      "execution_count": null,
      "outputs": []
    },
    {
      "cell_type": "code",
      "source": [
        "modelo4 = keras.Sequential()\n",
        "modelo4.add(keras.layers.Flatten(input_shape=input_shape))\n",
        "modelo4.add(keras.layers.Dense(units=50, activation=\"relu\"))\n",
        "modelo4.add(keras.layers.Dense(units=10, activation=\"softmax\"))\n",
        "\n",
        "modelo4.summary()"
      ],
      "metadata": {
        "colab": {
          "base_uri": "https://localhost:8080/"
        },
        "id": "ErMb3mFhQ7oz",
        "outputId": "fffc7a5a-82e6-40af-ce2f-82ae4267f5b3"
      },
      "execution_count": null,
      "outputs": [
        {
          "output_type": "stream",
          "name": "stdout",
          "text": [
            "Model: \"sequential_6\"\n",
            "_________________________________________________________________\n",
            " Layer (type)                Output Shape              Param #   \n",
            "=================================================================\n",
            " flatten_6 (Flatten)         (None, 784)               0         \n",
            "                                                                 \n",
            " dense_12 (Dense)            (None, 50)                39250     \n",
            "                                                                 \n",
            " dense_13 (Dense)            (None, 10)                510       \n",
            "                                                                 \n",
            "=================================================================\n",
            "Total params: 39,760\n",
            "Trainable params: 39,760\n",
            "Non-trainable params: 0\n",
            "_________________________________________________________________\n"
          ]
        }
      ]
    },
    {
      "cell_type": "code",
      "source": [
        "modelo4.compile(loss=\"categorical_crossentropy\", optimizer=\"adam\", metrics=[\"accuracy\"])\n",
        "\n",
        "history4 = modelo4.fit(x_train, y_train, batch_size=256, epochs=30, validation_split=0.2, verbose=2)"
      ],
      "metadata": {
        "colab": {
          "base_uri": "https://localhost:8080/"
        },
        "id": "Gz0rHOR0Q9NV",
        "outputId": "9cfbf4ac-d124-4709-acdd-4df6c97accf8"
      },
      "execution_count": null,
      "outputs": [
        {
          "output_type": "stream",
          "name": "stdout",
          "text": [
            "Epoch 1/30\n",
            "188/188 - 2s - loss: 0.6382 - accuracy: 0.8248 - val_loss: 0.3078 - val_accuracy: 0.9162 - 2s/epoch - 9ms/step\n",
            "Epoch 2/30\n",
            "188/188 - 1s - loss: 0.2856 - accuracy: 0.9200 - val_loss: 0.2413 - val_accuracy: 0.9332 - 876ms/epoch - 5ms/step\n",
            "Epoch 3/30\n",
            "188/188 - 1s - loss: 0.2324 - accuracy: 0.9352 - val_loss: 0.2116 - val_accuracy: 0.9407 - 861ms/epoch - 5ms/step\n",
            "Epoch 4/30\n",
            "188/188 - 1s - loss: 0.2003 - accuracy: 0.9438 - val_loss: 0.1856 - val_accuracy: 0.9484 - 824ms/epoch - 4ms/step\n",
            "Epoch 5/30\n",
            "188/188 - 1s - loss: 0.1765 - accuracy: 0.9500 - val_loss: 0.1705 - val_accuracy: 0.9525 - 1s/epoch - 7ms/step\n",
            "Epoch 6/30\n",
            "188/188 - 1s - loss: 0.1587 - accuracy: 0.9546 - val_loss: 0.1608 - val_accuracy: 0.9542 - 1s/epoch - 7ms/step\n",
            "Epoch 7/30\n",
            "188/188 - 1s - loss: 0.1430 - accuracy: 0.9590 - val_loss: 0.1489 - val_accuracy: 0.9578 - 983ms/epoch - 5ms/step\n",
            "Epoch 8/30\n",
            "188/188 - 1s - loss: 0.1307 - accuracy: 0.9632 - val_loss: 0.1419 - val_accuracy: 0.9594 - 899ms/epoch - 5ms/step\n",
            "Epoch 9/30\n",
            "188/188 - 1s - loss: 0.1203 - accuracy: 0.9652 - val_loss: 0.1337 - val_accuracy: 0.9613 - 892ms/epoch - 5ms/step\n",
            "Epoch 10/30\n",
            "188/188 - 1s - loss: 0.1105 - accuracy: 0.9687 - val_loss: 0.1291 - val_accuracy: 0.9619 - 868ms/epoch - 5ms/step\n",
            "Epoch 11/30\n",
            "188/188 - 1s - loss: 0.1032 - accuracy: 0.9710 - val_loss: 0.1263 - val_accuracy: 0.9641 - 841ms/epoch - 4ms/step\n",
            "Epoch 12/30\n",
            "188/188 - 1s - loss: 0.0958 - accuracy: 0.9731 - val_loss: 0.1220 - val_accuracy: 0.9651 - 911ms/epoch - 5ms/step\n",
            "Epoch 13/30\n",
            "188/188 - 1s - loss: 0.0892 - accuracy: 0.9746 - val_loss: 0.1181 - val_accuracy: 0.9659 - 863ms/epoch - 5ms/step\n",
            "Epoch 14/30\n",
            "188/188 - 1s - loss: 0.0844 - accuracy: 0.9765 - val_loss: 0.1171 - val_accuracy: 0.9657 - 868ms/epoch - 5ms/step\n",
            "Epoch 15/30\n",
            "188/188 - 1s - loss: 0.0783 - accuracy: 0.9785 - val_loss: 0.1144 - val_accuracy: 0.9666 - 893ms/epoch - 5ms/step\n",
            "Epoch 16/30\n",
            "188/188 - 1s - loss: 0.0741 - accuracy: 0.9787 - val_loss: 0.1117 - val_accuracy: 0.9675 - 822ms/epoch - 4ms/step\n",
            "Epoch 17/30\n",
            "188/188 - 1s - loss: 0.0689 - accuracy: 0.9808 - val_loss: 0.1127 - val_accuracy: 0.9679 - 831ms/epoch - 4ms/step\n",
            "Epoch 18/30\n",
            "188/188 - 1s - loss: 0.0654 - accuracy: 0.9820 - val_loss: 0.1137 - val_accuracy: 0.9669 - 1s/epoch - 7ms/step\n",
            "Epoch 19/30\n",
            "188/188 - 2s - loss: 0.0621 - accuracy: 0.9831 - val_loss: 0.1076 - val_accuracy: 0.9684 - 2s/epoch - 8ms/step\n",
            "Epoch 20/30\n",
            "188/188 - 1s - loss: 0.0585 - accuracy: 0.9841 - val_loss: 0.1089 - val_accuracy: 0.9678 - 984ms/epoch - 5ms/step\n",
            "Epoch 21/30\n",
            "188/188 - 1s - loss: 0.0558 - accuracy: 0.9847 - val_loss: 0.1087 - val_accuracy: 0.9693 - 925ms/epoch - 5ms/step\n",
            "Epoch 22/30\n",
            "188/188 - 1s - loss: 0.0525 - accuracy: 0.9856 - val_loss: 0.1048 - val_accuracy: 0.9693 - 907ms/epoch - 5ms/step\n",
            "Epoch 23/30\n",
            "188/188 - 1s - loss: 0.0499 - accuracy: 0.9863 - val_loss: 0.1082 - val_accuracy: 0.9678 - 880ms/epoch - 5ms/step\n",
            "Epoch 24/30\n",
            "188/188 - 1s - loss: 0.0468 - accuracy: 0.9873 - val_loss: 0.1083 - val_accuracy: 0.9680 - 863ms/epoch - 5ms/step\n",
            "Epoch 25/30\n",
            "188/188 - 1s - loss: 0.0445 - accuracy: 0.9882 - val_loss: 0.1082 - val_accuracy: 0.9683 - 862ms/epoch - 5ms/step\n",
            "Epoch 26/30\n",
            "188/188 - 1s - loss: 0.0420 - accuracy: 0.9887 - val_loss: 0.1076 - val_accuracy: 0.9688 - 871ms/epoch - 5ms/step\n",
            "Epoch 27/30\n",
            "188/188 - 1s - loss: 0.0400 - accuracy: 0.9898 - val_loss: 0.1068 - val_accuracy: 0.9687 - 868ms/epoch - 5ms/step\n",
            "Epoch 28/30\n",
            "188/188 - 1s - loss: 0.0378 - accuracy: 0.9906 - val_loss: 0.1125 - val_accuracy: 0.9682 - 870ms/epoch - 5ms/step\n",
            "Epoch 29/30\n",
            "188/188 - 1s - loss: 0.0358 - accuracy: 0.9907 - val_loss: 0.1064 - val_accuracy: 0.9699 - 901ms/epoch - 5ms/step\n",
            "Epoch 30/30\n",
            "188/188 - 1s - loss: 0.0333 - accuracy: 0.9917 - val_loss: 0.1065 - val_accuracy: 0.9691 - 885ms/epoch - 5ms/step\n"
          ]
        }
      ]
    },
    {
      "cell_type": "code",
      "source": [
        "plt.xlabel(\"Épocas'\")\n",
        "plt.ylabel(\"Loss\")\n",
        "plt.plot(history4.history['loss'], label=\"Treino\")\n",
        "plt.plot(history4.history['val_loss'], label=\"Val\")\n",
        "plt.legend()\n",
        "plt.show()\n"
      ],
      "metadata": {
        "colab": {
          "base_uri": "https://localhost:8080/",
          "height": 451
        },
        "id": "0CPWJR60Q9VC",
        "outputId": "c370a899-62ff-44fb-84c5-b00a27a5ec83"
      },
      "execution_count": null,
      "outputs": [
        {
          "output_type": "display_data",
          "data": {
            "text/plain": [
              "<Figure size 640x480 with 1 Axes>"
            ],
            "image/png": "[encoded data removed]"
          },
          "metadata": {}
        }
      ]
    },
    {
      "cell_type": "code",
      "source": [
        "#Avaliação do modelo treinado no conjunto de teste\n",
        "print(\"Avaliação do modelo (Teste)\")\n",
        "results4 = modelo4.evaluate(x_test, y_test)\n",
        "print(\"Test loss, Test acc:\", results3)\n"
      ],
      "metadata": {
        "colab": {
          "base_uri": "https://localhost:8080/"
        },
        "id": "3AnM8RKMRlRs",
        "outputId": "9646c951-0bd9-497b-e4d8-26cb9c0ff0b8"
      },
      "execution_count": null,
      "outputs": [
        {
          "output_type": "stream",
          "name": "stdout",
          "text": [
            "Avaliação do modelo (Teste)\n",
            "313/313 [==============================] - 1s 2ms/step - loss: 0.0933 - accuracy: 0.9716\n",
            "Test loss, Test acc: [0.10830125957727432, 0.9761000275611877]\n"
          ]
        }
      ]
    },
    {
      "cell_type": "code",
      "source": [
        "activation_l.append('50relu + 10softmax')\n",
        "test_loss_l.append(results4[0])\n",
        "test_acc_l.append(results4[1])"
      ],
      "metadata": {
        "id": "4YC0h7Z7Q9bn"
      },
      "execution_count": null,
      "outputs": []
    },
    {
      "cell_type": "code",
      "source": [
        "results1_df = pd\n",
        "results1_df = pd.DataFrame(activation_l, columns=['activation'])\n",
        "results1_df['test_loss'] = test_loss_l\n",
        "results1_df['test_acc'] = test_acc_l"
      ],
      "metadata": {
        "id": "p83MXpGvLodU"
      },
      "execution_count": null,
      "outputs": []
    },
    {
      "cell_type": "code",
      "source": [
        "results1_df"
      ],
      "metadata": {
        "colab": {
          "base_uri": "https://localhost:8080/",
          "height": 143
        },
        "id": "p3WuxdmYLogK",
        "outputId": "ff2235e9-a4c8-4aab-ace2-02927a650cf1"
      },
      "execution_count": null,
      "outputs": [
        {
          "output_type": "execute_result",
          "data": {
            "text/plain": [
              "            activation  test_loss  test_acc\n",
              "0  100relu + 10softmax   0.091609    0.9755\n",
              "1   80relu + 10softmax   0.092471    0.9740\n",
              "2   50relu + 10softmax   0.093318    0.9716"
            ],
            "text/html": [
              "\n",
              "  <div id=\"df-7856afd0-a2a0-4830-b5b7-69068e965724\">\n",
              "    <div class=\"colab-df-container\">\n",
              "      <div>\n",
              "<style scoped>\n",
              "    .dataframe tbody tr th:only-of-type {\n",
              "        vertical-align: middle;\n",
              "    }\n",
              "\n",
              "    .dataframe tbody tr th {\n",
              "        vertical-align: top;\n",
              "    }\n",
              "\n",
              "    .dataframe thead th {\n",
              "        text-align: right;\n",
              "    }\n",
              "</style>\n",
              "<table border=\"1\" class=\"dataframe\">\n",
              "  <thead>\n",
              "    <tr style=\"text-align: right;\">\n",
              "      <th></th>\n",
              "      <th>activation</th>\n",
              "      <th>test_loss</th>\n",
              "      <th>test_acc</th>\n",
              "    </tr>\n",
              "  </thead>\n",
              "  <tbody>\n",
              "    <tr>\n",
              "      <th>0</th>\n",
              "      <td>100relu + 10softmax</td>\n",
              "      <td>0.091609</td>\n",
              "      <td>0.9755</td>\n",
              "    </tr>\n",
              "    <tr>\n",
              "      <th>1</th>\n",
              "      <td>80relu + 10softmax</td>\n",
              "      <td>0.092471</td>\n",
              "      <td>0.9740</td>\n",
              "    </tr>\n",
              "    <tr>\n",
              "      <th>2</th>\n",
              "      <td>50relu + 10softmax</td>\n",
              "      <td>0.093318</td>\n",
              "      <td>0.9716</td>\n",
              "    </tr>\n",
              "  </tbody>\n",
              "</table>\n",
              "</div>\n",
              "      <button class=\"colab-df-convert\" onclick=\"convertToInteractive('df-7856afd0-a2a0-4830-b5b7-69068e965724')\"\n",
              "              title=\"Convert this dataframe to an interactive table.\"\n",
              "              style=\"display:none;\">\n",
              "        \n",
              "  <svg xmlns=\"http://www.w3.org/2000/svg\" height=\"24px\"viewBox=\"0 0 24 24\"\n",
              "       width=\"24px\">\n",
              "    <path d=\"M0 0h24v24H0V0z\" fill=\"none\"/>\n",
              "    <path d=\"M18.56 5.44l.94 2.06.94-2.06 2.06-.94-2.06-.94-.94-2.06-.94 2.06-2.06.94zm-11 1L8.5 8.5l.94-2.06 2.06-.94-2.06-.94L8.5 2.5l-.94 2.06-2.06.94zm10 10l.94 2.06.94-2.06 2.06-.94-2.06-.94-.94-2.06-.94 2.06-2.06.94z\"/><path d=\"M17.41 7.96l-1.37-1.37c-.4-.4-.92-.59-1.43-.59-.52 0-1.04.2-1.43.59L10.3 9.45l-7.72 7.72c-.78.78-.78 2.05 0 2.83L4 21.41c.39.39.9.59 1.41.59.51 0 1.02-.2 1.41-.59l7.78-7.78 2.81-2.81c.8-.78.8-2.07 0-2.86zM5.41 20L4 18.59l7.72-7.72 1.47 1.35L5.41 20z\"/>\n",
              "  </svg>\n",
              "      </button>\n",
              "      \n",
              "  <style>\n",
              "    .colab-df-container {\n",
              "      display:flex;\n",
              "      flex-wrap:wrap;\n",
              "      gap: 12px;\n",
              "    }\n",
              "\n",
              "    .colab-df-convert {\n",
              "      background-color: #E8F0FE;\n",
              "      border: none;\n",
              "      border-radius: 50%;\n",
              "      cursor: pointer;\n",
              "      display: none;\n",
              "      fill: #1967D2;\n",
              "      height: 32px;\n",
              "      padding: 0 0 0 0;\n",
              "      width: 32px;\n",
              "    }\n",
              "\n",
              "    .colab-df-convert:hover {\n",
              "      background-color: #E2EBFA;\n",
              "      box-shadow: 0px 1px 2px rgba(60, 64, 67, 0.3), 0px 1px 3px 1px rgba(60, 64, 67, 0.15);\n",
              "      fill: #174EA6;\n",
              "    }\n",
              "\n",
              "    [theme=dark] .colab-df-convert {\n",
              "      background-color: #3B4455;\n",
              "      fill: #D2E3FC;\n",
              "    }\n",
              "\n",
              "    [theme=dark] .colab-df-convert:hover {\n",
              "      background-color: #434B5C;\n",
              "      box-shadow: 0px 1px 3px 1px rgba(0, 0, 0, 0.15);\n",
              "      filter: drop-shadow(0px 1px 2px rgba(0, 0, 0, 0.3));\n",
              "      fill: #FFFFFF;\n",
              "    }\n",
              "  </style>\n",
              "\n",
              "      <script>\n",
              "        const buttonEl =\n",
              "          document.querySelector('#df-7856afd0-a2a0-4830-b5b7-69068e965724 button.colab-df-convert');\n",
              "        buttonEl.style.display =\n",
              "          google.colab.kernel.accessAllowed ? 'block' : 'none';\n",
              "\n",
              "        async function convertToInteractive(key) {\n",
              "          const element = document.querySelector('#df-7856afd0-a2a0-4830-b5b7-69068e965724');\n",
              "          const dataTable =\n",
              "            await google.colab.kernel.invokeFunction('convertToInteractive',\n",
              "                                                     [key], {});\n",
              "          if (!dataTable) return;\n",
              "\n",
              "          const docLinkHtml = 'Like what you see? Visit the ' +\n",
              "            '<a target=\"_blank\" href=https://colab.research.google.com/notebooks/data_table.ipynb>data table notebook</a>'\n",
              "            + ' to learn more about interactive tables.';\n",
              "          element.innerHTML = '';\n",
              "          dataTable['output_type'] = 'display_data';\n",
              "          await google.colab.output.renderOutput(dataTable, element);\n",
              "          const docLink = document.createElement('div');\n",
              "          docLink.innerHTML = docLinkHtml;\n",
              "          element.appendChild(docLink);\n",
              "        }\n",
              "      </script>\n",
              "    </div>\n",
              "  </div>\n",
              "  "
            ]
          },
          "metadata": {},
          "execution_count": 49
        }
      ]
    },
    {
      "cell_type": "markdown",
      "source": [
        "Da tabela acima, observamos que a utilização de 100, 80 ou 50 neurônios na camada oculta, gerou o mesmo nível de acurácia."
      ],
      "metadata": {
        "id": "Zcy-9nyaNzDz"
      }
    }
  ],
  "metadata": {
    "accelerator": "GPU",
    "colab": {
      "provenance": [],
      "include_colab_link": true
    },
    "gpuClass": "standard",
    "kernelspec": {
      "display_name": "Python 3",
      "name": "python3"
    },
    "language_info": {
      "name": "python"
    }
  },
  "nbformat": 4,
  "nbformat_minor": 0
}